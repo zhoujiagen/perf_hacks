{
 "cells": [
  {
   "cell_type": "code",
   "execution_count": 45,
   "metadata": {},
   "outputs": [],
   "source": [
    "import requests\n",
    "import json\n",
    "import time\n",
    "import pprint\n",
    "\n",
    "import urllib.parse\n",
    "\n",
    "HEADER_AUTH_TOKEN = \"X-Auth-Token\"\n",
    "headers = {\n",
    "    HEADER_AUTH_TOKEN: HEADER_AUTH_TOKEN\n",
    "}\n",
    "\n",
    "\n",
    "BASE_URL = \"http://localhost:9999\"\n",
    "\n",
    "URL_HEALTH = BASE_URL + \"/api/health\"\n",
    "URL_USER = BASE_URL + \"/api/user\"\n",
    "URL_NOTES = BASE_URL + \"/api/notes\""
   ]
  },
  {
   "cell_type": "markdown",
   "metadata": {},
   "source": [
    "# Metric"
   ]
  },
  {
   "cell_type": "code",
   "execution_count": 48,
   "metadata": {},
   "outputs": [
    {
     "name": "stdout",
     "output_type": "stream",
     "text": [
      "http://localhost:9999/api/health\n",
      "{'X-Auth-Token': '8c6976e5b5410415bde908bd4dee15dfb167a9c873fc4bb8a81f6f2ab448a918'}\n",
      "200\n",
      "{'Status': 0}\n"
     ]
    }
   ],
   "source": [
    "url = URL_HEALTH\n",
    "print(url)\n",
    "pprint.pprint(headers)\n",
    "\n",
    "params = {}\n",
    "r = requests.get(url, headers=headers, params=params)\n",
    "pprint.pprint(r.status_code)\n",
    "pprint.pprint(r.json())"
   ]
  },
  {
   "cell_type": "markdown",
   "metadata": {},
   "source": [
    "# User"
   ]
  },
  {
   "cell_type": "code",
   "execution_count": 47,
   "metadata": {},
   "outputs": [
    {
     "name": "stdout",
     "output_type": "stream",
     "text": [
      "http://localhost:9999/api/user/login\n",
      "{'X-Auth-Token': 'X-Auth-Token'}\n",
      "200\n",
      "{'Content-Length': '105', 'Content-Type': 'application/json', 'Date': 'Sun, 08 Mar 2020 15:33:49 GMT', 'Keep-Alive': 'timeout=58', 'X-Auth-Token': '8c6976e5b5410415bde908bd4dee15dfb167a9c873fc4bb8a81f6f2ab448a918'}\n",
      "{'Code': '000000',\n",
      " 'Data': '8c6976e5b5410415bde908bd4dee15dfb167a9c873fc4bb8a81f6f2ab448a918',\n",
      " 'Message': ''}\n"
     ]
    }
   ],
   "source": [
    "url = URL_USER + \"/login\"\n",
    "print(url)\n",
    "pprint.pprint(headers)\n",
    "\n",
    "params = {}\n",
    "data = {\n",
    "    \"name\": \"admin\",\n",
    "    \"password\": \"admin\",\n",
    "}\n",
    "r = requests.post(url, headers=headers, params=params, data=json.dumps(data))\n",
    "pprint.pprint(r.status_code)\n",
    "pprint.pprint(r.headers)\n",
    "pprint.pprint(r.json())\n",
    "headers[HEADER_AUTH_TOKEN] = r.json()[\"Data\"]"
   ]
  },
  {
   "cell_type": "markdown",
   "metadata": {},
   "source": [
    "# Notes"
   ]
  },
  {
   "cell_type": "markdown",
   "metadata": {},
   "source": [
    "## POST /api/notes"
   ]
  },
  {
   "cell_type": "code",
   "execution_count": 19,
   "metadata": {},
   "outputs": [
    {
     "name": "stdout",
     "output_type": "stream",
     "text": [
      "http://localhost:9999/api/notes\n",
      "{}\n",
      "201\n",
      "{'Code': '000000', 'Data': 20, 'Message': ''}\n"
     ]
    }
   ],
   "source": [
    "url = URL_NOTES\n",
    "print(url)\n",
    "pprint.pprint(headers)\n",
    "\n",
    "params = {}\n",
    "data = {\n",
    "    \"title\": \"笔记22\",\n",
    "    \"description\": \"内容TODO\",\n",
    "}\n",
    "r = requests.post(url, headers=headers, params=params, data=json.dumps(data))\n",
    "pprint.pprint(r.status_code)\n",
    "pprint.pprint(r.json())"
   ]
  },
  {
   "cell_type": "markdown",
   "metadata": {},
   "source": [
    "## GET /api/notes"
   ]
  },
  {
   "cell_type": "code",
   "execution_count": 49,
   "metadata": {},
   "outputs": [
    {
     "name": "stdout",
     "output_type": "stream",
     "text": [
      "http://localhost:9999/api/notes\n",
      "{'X-Auth-Token': '8c6976e5b5410415bde908bd4dee15dfb167a9c873fc4bb8a81f6f2ab448a918'}\n",
      "200\n",
      "{'Code': '000000',\n",
      " 'Data': [{'createdAt': '2020-03-04T09:52:16Z',\n",
      "           'description': '内容TODO2',\n",
      "           'id': 1,\n",
      "           'title': '一个笔记',\n",
      "           'updatedAt': '2020-03-06T09:10:16Z'},\n",
      "          {'createdAt': '2020-03-05T02:54:10Z',\n",
      "           'description': '内容TODO',\n",
      "           'id': 9,\n",
      "           'title': '笔记',\n",
      "           'updatedAt': '2020-03-05T02:54:10Z'},\n",
      "          {'createdAt': '2020-03-05T02:56:12Z',\n",
      "           'description': '内容TODO',\n",
      "           'id': 10,\n",
      "           'title': '笔记1',\n",
      "           'updatedAt': '2020-03-05T02:56:12Z'},\n",
      "          {'createdAt': '2020-03-05T02:57:38Z',\n",
      "           'description': '内容TODO',\n",
      "           'id': 12,\n",
      "           'title': '笔记2',\n",
      "           'updatedAt': '2020-03-05T02:57:38Z'},\n",
      "          {'createdAt': '2020-03-06T09:12:26Z',\n",
      "           'description': '12345',\n",
      "           'id': 19,\n",
      "           'title': '12345',\n",
      "           'updatedAt': '2020-03-06T09:12:32Z'},\n",
      "          {'createdAt': '2020-03-08T14:29:37Z',\n",
      "           'description': '内容TODO',\n",
      "           'id': 20,\n",
      "           'title': '笔记22',\n",
      "           'updatedAt': '2020-03-08T14:29:37Z'}],\n",
      " 'Message': ''}\n"
     ]
    }
   ],
   "source": [
    "url = URL_NOTES\n",
    "print(url)\n",
    "pprint.pprint(headers)\n",
    "\n",
    "params = {}\n",
    "r = requests.get(url, headers=headers, params=params)\n",
    "pprint.pprint(r.status_code)\n",
    "pprint.pprint(r.json())"
   ]
  },
  {
   "cell_type": "markdown",
   "metadata": {},
   "source": [
    "## GET /api/notes/{id}"
   ]
  },
  {
   "cell_type": "code",
   "execution_count": 10,
   "metadata": {},
   "outputs": [
    {
     "name": "stdout",
     "output_type": "stream",
     "text": [
      "http://localhost:9999/api/notes/1\n",
      "{}\n",
      "200\n",
      "{'Code': '000000',\n",
      " 'Data': {'createdAt': '2020-03-04T09:52:16Z',\n",
      "          'description': '内容TODO2',\n",
      "          'id': 1,\n",
      "          'title': '一个笔记',\n",
      "          'updatedAt': '2020-03-06T09:10:16Z'},\n",
      " 'Message': ''}\n"
     ]
    }
   ],
   "source": [
    "url = URL_NOTES + '/1'\n",
    "print(url)\n",
    "pprint.pprint(headers)\n",
    "\n",
    "params = {}\n",
    "r = requests.get(url, headers=headers, params=params)\n",
    "pprint.pprint(r.status_code)\n",
    "pprint.pprint(r.json())"
   ]
  },
  {
   "cell_type": "markdown",
   "metadata": {},
   "source": [
    "## PUT /api/note/{id}"
   ]
  },
  {
   "cell_type": "code",
   "execution_count": 54,
   "metadata": {},
   "outputs": [
    {
     "name": "stdout",
     "output_type": "stream",
     "text": [
      "http://localhost:9999/api/notes/14\n",
      "{}\n",
      "200\n",
      "{'Code': '000000',\n",
      " 'Data': {'createdAt': '0001-01-01T00:00:00Z',\n",
      "          'description': '内容TODO2',\n",
      "          'id': 14,\n",
      "          'title': '笔记22',\n",
      "          'updatedAt': '0001-01-01T00:00:00Z'},\n",
      " 'Message': ''}\n"
     ]
    }
   ],
   "source": [
    "url = URL_NOTES + '/14'\n",
    "print(url)\n",
    "pprint.pprint(headers)\n",
    "\n",
    "params = {}\n",
    "data = {\n",
    "    \"title\": \"笔记22\",\n",
    "    \"description\": \"内容TODO2\",\n",
    "}\n",
    "r = requests.put(url, headers=headers, params=params, data=json.dumps(data))\n",
    "pprint.pprint(r.status_code)\n",
    "pprint.pprint(r.json())"
   ]
  },
  {
   "cell_type": "markdown",
   "metadata": {},
   "source": [
    "## DELETE /api/note/{id}"
   ]
  },
  {
   "cell_type": "code",
   "execution_count": 55,
   "metadata": {},
   "outputs": [
    {
     "name": "stdout",
     "output_type": "stream",
     "text": [
      "http://localhost:9999/api/notes/14\n",
      "{}\n",
      "200\n",
      "{'Code': '000000', 'Data': None, 'Message': ''}\n"
     ]
    }
   ],
   "source": [
    "url = URL_NOTES + '/14'\n",
    "print(url)\n",
    "pprint.pprint(headers)\n",
    "\n",
    "params = {}\n",
    "r = requests.delete(url, headers=headers, params=params)\n",
    "pprint.pprint(r.status_code)\n",
    "pprint.pprint(r.json())"
   ]
  },
  {
   "cell_type": "code",
   "execution_count": null,
   "metadata": {},
   "outputs": [],
   "source": []
  }
 ],
 "metadata": {
  "kernelspec": {
   "display_name": "Python 3",
   "language": "python",
   "name": "python3"
  },
  "language_info": {
   "codemirror_mode": {
    "name": "ipython",
    "version": 3
   },
   "file_extension": ".py",
   "mimetype": "text/x-python",
   "name": "python",
   "nbconvert_exporter": "python",
   "pygments_lexer": "ipython3",
   "version": "3.7.1"
  },
  "toc": {
   "base_numbering": 1,
   "nav_menu": {},
   "number_sections": true,
   "sideBar": true,
   "skip_h1_title": false,
   "title_cell": "Table of Contents",
   "title_sidebar": "Contents",
   "toc_cell": false,
   "toc_position": {
    "height": "calc(100% - 180px)",
    "left": "10px",
    "top": "150px",
    "width": "279.797px"
   },
   "toc_section_display": true,
   "toc_window_display": true
  }
 },
 "nbformat": 4,
 "nbformat_minor": 2
}
