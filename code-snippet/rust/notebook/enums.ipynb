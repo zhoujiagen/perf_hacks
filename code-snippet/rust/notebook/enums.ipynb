{
 "cells": [
  {
   "cell_type": "markdown",
   "metadata": {},
   "source": [
    "# 枚举"
   ]
  },
  {
   "cell_type": "markdown",
   "metadata": {},
   "source": [
    "## C风格的枚举"
   ]
  },
  {
   "cell_type": "code",
   "execution_count": 4,
   "metadata": {},
   "outputs": [
    {
     "name": "stdout",
     "output_type": "stream",
     "text": [
      "Less\n"
     ]
    },
    {
     "data": {
      "text/plain": [
       "()"
      ]
     },
     "execution_count": 4,
     "metadata": {},
     "output_type": "execute_result"
    }
   ],
   "source": [
    "#[derive(Debug)]\n",
    "enum MyOrdering {\n",
    "    Less,\n",
    "    Equal,\n",
    "    Greater\n",
    "}\n",
    "\n",
    "\n",
    "fn compare(n: i32, m: i32) -> MyOrdering {\n",
    "    if n < m {\n",
    "        MyOrdering::Less\n",
    "    } else if n > m {\n",
    "        MyOrdering::Greater\n",
    "    } else {\n",
    "        MyOrdering::Equal\n",
    "    }\n",
    "}\n",
    "\n",
    "{\n",
    "    println!(\"{:?}\", compare(10, 20));\n",
    "}\n"
   ]
  },
  {
   "cell_type": "code",
   "execution_count": 6,
   "metadata": {},
   "outputs": [],
   "source": [
    "enum HttpStatus { // C Style\n",
    "    Ok = 200,\n",
    "    NotModified = 304,\n",
    "    NotFound = 404\n",
    "}\n",
    "\n",
    "fn http_status_from_u32(n: u32) -> Option<HttpStatus> {\n",
    "    match n {\n",
    "        200 => Some(HttpStatus::Ok),\n",
    "        304 => Some(HttpStatus::NotModified),\n",
    "        404 => Some(HttpStatus::NotFound),\n",
    "        _ => None\n",
    "    }\n",
    "}"
   ]
  },
  {
   "cell_type": "code",
   "execution_count": 12,
   "metadata": {},
   "outputs": [
    {
     "name": "stdout",
     "output_type": "stream",
     "text": [
      "\"Hours\"\n"
     ]
    },
    {
     "data": {
      "text/plain": [
       "()"
      ]
     },
     "execution_count": 12,
     "metadata": {},
     "output_type": "execute_result"
    }
   ],
   "source": [
    "// 枚举方法\n",
    "\n",
    "#[derive(Copy, Clone, Debug, PartialEq)]\n",
    "enum TimeUnit {\n",
    "    Seconds, Minutes, Hours, Days, Months, Years\n",
    "}\n",
    "\n",
    "impl TimeUnit {\n",
    "    fn plural(self) -> &'static str {\n",
    "        match self {\n",
    "            TimeUnit::Seconds => \"Seconds\",\n",
    "            TimeUnit::Minutes => \"Minutes\",\n",
    "            TimeUnit::Hours => \"Hours\",\n",
    "            TimeUnit::Days => \"Days\",\n",
    "            TimeUnit::Months => \"Months\",\n",
    "            TimeUnit::Years => \"Years\"\n",
    "        }\n",
    "    }\n",
    "    \n",
    "    fn singular(self) -> &'static str {\n",
    "        self.plural().trim_end_matches('s')\n",
    "    }\n",
    "}\n",
    "\n",
    "\n",
    "{\n",
    "    println!(\"{:?}\", TimeUnit::Hours.plural());\n",
    "}"
   ]
  },
  {
   "cell_type": "markdown",
   "metadata": {},
   "source": [
    "## 带数据的枚举"
   ]
  },
  {
   "cell_type": "code",
   "execution_count": 10,
   "metadata": {},
   "outputs": [
    {
     "name": "stdout",
     "output_type": "stream",
     "text": [
      "InThePast(Years, 87)\n",
      "InThePast(Years, 87)\n",
      "InTheFuture(Hours, 3)\n"
     ]
    },
    {
     "data": {
      "text/plain": [
       "()"
      ]
     },
     "execution_count": 10,
     "metadata": {},
     "output_type": "execute_result"
    }
   ],
   "source": [
    "#[derive(Copy, Clone, Debug, PartialEq)]\n",
    "enum RoughTime {\n",
    "    InThePast(TimeUnit, u32),\n",
    "    JustNow,\n",
    "    InTheFuture(TimeUnit, u32)\n",
    "}\n",
    "\n",
    "{\n",
    "    let four_score_and_seven_years_ago = RoughTime::InThePast(TimeUnit::Years, 4*20+7);\n",
    "    let three_hours_from_now = RoughTime::InTheFuture(TimeUnit::Hours, 3);\n",
    "    \n",
    "    println!(\"{:?}\", four_score_and_seven_years_ago);\n",
    "    println!(\"{:?}\", three_hours_from_now);\n",
    "}"
   ]
  },
  {
   "cell_type": "markdown",
   "metadata": {},
   "source": [
    "### BinaryTree"
   ]
  },
  {
   "cell_type": "code",
   "execution_count": 23,
   "metadata": {},
   "outputs": [
    {
     "name": "stdout",
     "output_type": "stream",
     "text": [
      "NonEmpty(\n",
      "    TreeNode {\n",
      "        element: \"Jupiter\",\n",
      "        left: Empty,\n",
      "        right: NonEmpty(\n",
      "            TreeNode {\n",
      "                element: \"Mercury\",\n",
      "                left: NonEmpty(\n",
      "                    TreeNode {\n",
      "                        element: \"Mars\",\n",
      "                        left: Empty,\n",
      "                        right: Empty,\n",
      "                    },\n",
      "                ),\n",
      "                right: Empty,\n",
      "            },\n",
      "        ),\n",
      "    },\n",
      ")\n"
     ]
    },
    {
     "data": {
      "text/plain": [
       "()"
      ]
     },
     "execution_count": 23,
     "metadata": {},
     "output_type": "execute_result"
    }
   ],
   "source": [
    "#[derive(Debug)]\n",
    "enum BinaryTree<T> {\n",
    "    Empty,\n",
    "    NonEmpty(Box<TreeNode<T>>)\n",
    "}\n",
    "\n",
    "#[derive(Debug)]\n",
    "struct TreeNode<T> {\n",
    "    element: T,\n",
    "    left: BinaryTree<T>,\n",
    "    right: BinaryTree<T>\n",
    "}\n",
    "\n",
    "\n",
    "impl<T: Ord> BinaryTree<T> {\n",
    "    fn add(&mut self, value: T) {\n",
    "        match *self {\n",
    "            BinaryTree::Empty => \n",
    "                *self = BinaryTree::NonEmpty(Box::new(TreeNode{\n",
    "                    element: value,\n",
    "                    left: BinaryTree::Empty,\n",
    "                    right: BinaryTree::Empty        \n",
    "            })),\n",
    "            BinaryTree::NonEmpty(ref mut node) =>  // 匹配引用\n",
    "                if value <= node.element {\n",
    "                    node.left.add(value);\n",
    "                } else {\n",
    "                    node.right.add(value);\n",
    "                }\n",
    "        }\n",
    "    }\n",
    "}\n",
    "\n",
    "{\n",
    "    use BinaryTree::*;\n",
    "    let jupiter_tree = NonEmpty(Box::new(TreeNode {\n",
    "        element: \"Jupiter\",\n",
    "        left: Empty,\n",
    "        right: Empty\n",
    "    }));\n",
    "    let mercury_tree = NonEmpty(Box::new(TreeNode {\n",
    "        element: \"Mercury\",\n",
    "        left: Empty,\n",
    "        right: Empty\n",
    "    }));    \n",
    "    \n",
    "    let mars_tree = NonEmpty(Box::new(TreeNode {\n",
    "        element: \"Mars\",\n",
    "        left: jupiter_tree,\n",
    "        right: mercury_tree\n",
    "    }));\n",
    "    \n",
    "    let mut tree = BinaryTree::Empty;\n",
    "    tree.add(\"Jupiter\");\n",
    "    tree.add(\"Mercury\");\n",
    "    tree.add(\"Mars\");\n",
    "    println!(\"{:#?}\", tree); // Pretty output: {:#?}\n",
    "}"
   ]
  },
  {
   "cell_type": "markdown",
   "metadata": {},
   "source": [
    "### JSON"
   ]
  },
  {
   "cell_type": "code",
   "execution_count": 14,
   "metadata": {},
   "outputs": [],
   "source": [
    "use std::collections::HashMap;\n",
    "\n",
    "enum Json {\n",
    "    Null,\n",
    "    Boolean(bool),\n",
    "    Number(f64),\n",
    "    String(String),\n",
    "    Array(Vec<Json>),\n",
    "    Object(Box<HashMap<String, Json>>)\n",
    "}"
   ]
  },
  {
   "cell_type": "markdown",
   "metadata": {},
   "source": [
    "# 模式"
   ]
  },
  {
   "cell_type": "code",
   "execution_count": 25,
   "metadata": {},
   "outputs": [
    {
     "name": "stdout",
     "output_type": "stream",
     "text": [
      "\"2 Days from now\"\n"
     ]
    },
    {
     "data": {
      "text/plain": [
       "()"
      ]
     },
     "execution_count": 25,
     "metadata": {},
     "output_type": "execute_result"
    }
   ],
   "source": [
    "fn rough_time_to_english(rt: RoughTime) -> String {\n",
    "    match rt {\n",
    "        RoughTime::InThePast(units, count) =>\n",
    "            format!(\"{} {} ago\", count, units.plural()),\n",
    "        RoughTime::JustNow =>\n",
    "            format!(\"just now\"),\n",
    "        RoughTime::InTheFuture(units, count) =>\n",
    "            format!(\"{} {} from now\", count, units.plural())\n",
    "    }\n",
    "}\n",
    "\n",
    "{\n",
    "    println!(\"{:?}\", rough_time_to_english(RoughTime::InTheFuture(TimeUnit::Days, 2)));\n",
    "}"
   ]
  },
  {
   "cell_type": "markdown",
   "metadata": {},
   "source": [
    "## 字面量模式"
   ]
  },
  {
   "cell_type": "code",
   "execution_count": 26,
   "metadata": {},
   "outputs": [
    {
     "name": "stdout",
     "output_type": "stream",
     "text": [
      "1\n"
     ]
    },
    {
     "data": {
      "text/plain": [
       "()"
      ]
     },
     "execution_count": 26,
     "metadata": {},
     "output_type": "execute_result"
    }
   ],
   "source": [
    "{\n",
    "    let n = 1;\n",
    "    match n {\n",
    "        0 => {},\n",
    "        1 => println!(\"1\"),\n",
    "        n => println!(\"{}\", n)\n",
    "    }\n",
    "}"
   ]
  },
  {
   "cell_type": "code",
   "execution_count": 41,
   "metadata": {},
   "outputs": [
    {
     "name": "stdout",
     "output_type": "stream",
     "text": [
      "Hex { x: 16 }\n"
     ]
    }
   ],
   "source": [
    "#[derive(Debug, PartialEq)]\n",
    "struct Hex { x: i32 };\n",
    "struct Point { x: f32, y: f32 };\n",
    "\n",
    "fn point_to_hex(click: Point) -> Option<Hex> {\n",
    "    Some(Hex { x: 16 })\n",
    "}\n",
    "\n",
    "fn check_move(current_hex: Hex, click: Point) -> Result<Hex, &'static str> {\n",
    "    match point_to_hex(click) {\n",
    "        None => Err(\"wrong point\"),\n",
    "        Some(hex) => \n",
    "            if hex == current_hex {\n",
    "                Err(\"same point\")\n",
    "            } else {\n",
    "                Ok(hex)\n",
    "            }\n",
    "    }\n",
    "}\n",
    "\n",
    "\n",
    "{\n",
    "    let result = check_move(Hex{x: 17}, Point { x: 1.0, y: 1.0 });\n",
    "    match result {\n",
    "        Ok(hex) => println!(\"{:?}\", hex),\n",
    "        Err(msg) => println!(\"Error: {}\", msg)\n",
    "    }\n",
    "}"
   ]
  },
  {
   "cell_type": "markdown",
   "metadata": {},
   "source": [
    "## 元组和结构体模式"
   ]
  },
  {
   "cell_type": "code",
   "execution_count": 44,
   "metadata": {},
   "outputs": [
    {
     "name": "stdout",
     "output_type": "stream",
     "text": [
      "in the first quadrant\n"
     ]
    },
    {
     "data": {
      "text/plain": [
       "()"
      ]
     },
     "execution_count": 44,
     "metadata": {},
     "output_type": "execute_result"
    }
   ],
   "source": [
    "fn describe_point(x: i32, y: i32) -> &'static str {\n",
    "    use std::cmp::Ordering::*;\n",
    "    \n",
    "    match (x.cmp(&0), y.cmp(&0)) {\n",
    "        (Equal, Equal) => \"at the origin\",\n",
    "        (_, Equal) => \"on the x axis\",\n",
    "        (Equal, _) => \"on the y axis\",\n",
    "        (Greater, Greater) => \"in the first quadrant\",\n",
    "        (Less, Greater) => \"int the second quadrant\",\n",
    "        _ => \"somewhere else\"\n",
    "    }\n",
    "}\n",
    "\n",
    "{\n",
    "    println!(\"{}\", describe_point(10, 1));\n",
    "}\n"
   ]
  },
  {
   "cell_type": "code",
   "execution_count": 52,
   "metadata": {},
   "outputs": [
    {
     "name": "stdout",
     "output_type": "stream",
     "text": [
      "name=NAME, language=CN\n"
     ]
    },
    {
     "data": {
      "text/plain": [
       "()"
      ]
     },
     "execution_count": 52,
     "metadata": {},
     "output_type": "execute_result"
    }
   ],
   "source": [
    "#[derive(Debug)]\n",
    "struct Account {\n",
    "    name: String,\n",
    "    language: String,\n",
    "    id: u64,\n",
    "    status: i32,\n",
    "    address: String\n",
    "}\n",
    "\n",
    "impl Account {\n",
    "    fn new_random() -> Option<Account> {\n",
    "        Some(Account {\n",
    "            name: \"NAME\".to_string(),\n",
    "            language: \"CN\".to_string(),\n",
    "            id: 0,\n",
    "            status: 0,\n",
    "            address: \"ADDRESS\".to_string()\n",
    "        })\n",
    "    }\n",
    "}\n",
    "\n",
    "{\n",
    "    match Account::new_random() {\n",
    "        Some(Account {name, language, ..}) => println!(\"name={}, language={}\", name, language),\n",
    "        _ => {}\n",
    "    }\n",
    "}"
   ]
  },
  {
   "cell_type": "markdown",
   "metadata": {},
   "source": [
    "## 引用模式"
   ]
  },
  {
   "cell_type": "code",
   "execution_count": 58,
   "metadata": {},
   "outputs": [
    {
     "name": "stdout",
     "output_type": "stream",
     "text": [
      "name=NAME, language=CN\n",
      "account=Account { name: \"NAME\", language: \"CN\", id: 0, status: 0, address: \"ADDRESS\" }\n"
     ]
    },
    {
     "data": {
      "text/plain": [
       "()"
      ]
     },
     "execution_count": 58,
     "metadata": {},
     "output_type": "execute_result"
    }
   ],
   "source": [
    "{\n",
    "    let account = Account {            \n",
    "        name: \"NAME\".to_string(),            \n",
    "        language: \"CN\".to_string(),            \n",
    "        id: 0,            \n",
    "        status: 0,    \n",
    "        address: \"ADDRESS\".to_string()    \n",
    "    };\n",
    "    \n",
    "    match account {\n",
    "        Account {ref name, ref language, ..} => {  // 引用模式\n",
    "            println!(\"name={}, language={}\", name, language);\n",
    "            println!(\"account={:?}\", account)\n",
    "        }\n",
    "    }\n",
    "    \n",
    "//     match account {\n",
    "//         Account {name, language, ..} => {          // 移动\n",
    "//             println!(\"name={}, language={}\", name, language);\n",
    "//             println!(\"account={:?}\", account)\n",
    "//         }\n",
    "//     }\n",
    "}"
   ]
  },
  {
   "cell_type": "markdown",
   "metadata": {},
   "source": [
    "## 多个模式"
   ]
  },
  {
   "cell_type": "code",
   "execution_count": 61,
   "metadata": {},
   "outputs": [
    {
     "name": "stdout",
     "output_type": "stream",
     "text": [
      "character\n"
     ]
    },
    {
     "data": {
      "text/plain": [
       "()"
      ]
     },
     "execution_count": 61,
     "metadata": {},
     "output_type": "execute_result"
    }
   ],
   "source": [
    "{\n",
    "    let next_char = 'c';\n",
    "    \n",
    "    match next_char {\n",
    "        '0' ..= '9' => println!(\"digit\"),\n",
    "        'a' ..= 'z' | 'A' ..= 'Z' => println!(\"character\"),\n",
    "        ' ' | '\\t' | '\\n' => println!(\"whitespace\"),\n",
    "        _ => println!(\"unknown\")\n",
    "    }\n",
    "}"
   ]
  },
  {
   "cell_type": "markdown",
   "metadata": {},
   "source": [
    "## 模式护卫"
   ]
  },
  {
   "cell_type": "code",
   "execution_count": 62,
   "metadata": {},
   "outputs": [
    {
     "name": "stdout",
     "output_type": "stream",
     "text": [
      "10\n"
     ]
    },
    {
     "data": {
      "text/plain": [
       "()"
      ]
     },
     "execution_count": 62,
     "metadata": {},
     "output_type": "execute_result"
    }
   ],
   "source": [
    "{\n",
    "    let n = 10;\n",
    "    \n",
    "    match n {\n",
    "        var if var > 20 => println!(\"{} is greater than 20\", var),\n",
    "        var => println!(\"{}\", var)\n",
    "    }\n",
    "}"
   ]
  },
  {
   "cell_type": "markdown",
   "metadata": {},
   "source": [
    "## `@`模式"
   ]
  },
  {
   "cell_type": "code",
   "execution_count": 74,
   "metadata": {},
   "outputs": [
    {
     "name": "stdout",
     "output_type": "stream",
     "text": [
      "character=c\n"
     ]
    }
   ],
   "source": [
    "#![feature(or_patterns)]\n",
    "\n",
    "{\n",
    "    let next_char = 'c';\n",
    "    \n",
    "    match next_char {\n",
    "        digit @ '0' ..= '9' => println!(\"digit={}\", digit),\n",
    "        // character @ ('a' ..= 'z' | 'A' ..= 'Z') => println!(\"character={}\", character),\n",
    "        'a' ..= 'z' | 'A' ..= 'Z' => println!(\"character={}\", next_char),\n",
    "        ' ' | '\\t' | '\\n' => println!(\"whitespace\"),\n",
    "        _ => println!(\"unknown\")\n",
    "    }\n",
    "}"
   ]
  },
  {
   "cell_type": "code",
   "execution_count": null,
   "metadata": {},
   "outputs": [],
   "source": []
  }
 ],
 "metadata": {
  "kernelspec": {
   "display_name": "Rust",
   "language": "rust",
   "name": "rust"
  },
  "language_info": {
   "codemirror_mode": "rust",
   "file_extension": ".rs",
   "mimetype": "text/rust",
   "name": "Rust",
   "pygment_lexer": "rust",
   "version": ""
  },
  "toc": {
   "base_numbering": 1,
   "nav_menu": {},
   "number_sections": true,
   "sideBar": true,
   "skip_h1_title": false,
   "title_cell": "Table of Contents",
   "title_sidebar": "Contents",
   "toc_cell": false,
   "toc_position": {},
   "toc_section_display": true,
   "toc_window_display": true
  }
 },
 "nbformat": 4,
 "nbformat_minor": 4
}
