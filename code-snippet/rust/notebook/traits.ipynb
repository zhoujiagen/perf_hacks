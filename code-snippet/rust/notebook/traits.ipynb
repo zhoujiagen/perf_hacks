{
 "cells": [
  {
   "cell_type": "markdown",
   "metadata": {},
   "source": [
    "# 特质"
   ]
  },
  {
   "cell_type": "code",
   "execution_count": 2,
   "metadata": {},
   "outputs": [
    {
     "name": "stdout",
     "output_type": "stream",
     "text": [
      "[\n",
      "    104,\n",
      "    101,\n",
      "    108,\n",
      "    108,\n",
      "    111,\n",
      "]\n"
     ]
    },
    {
     "data": {
      "text/plain": [
       "()"
      ]
     },
     "execution_count": 2,
     "metadata": {},
     "output_type": "execute_result"
    }
   ],
   "source": [
    "{\n",
    "    use std::io::Write;\n",
    "    \n",
    "    let mut buf: Vec<u8> = vec![];\n",
    "    buf.write_all(b\"hello\");       // Vec实现了特质Write\n",
    "    \n",
    "    println!(\"{:#?}\", buf);\n",
    "}"
   ]
  },
  {
   "cell_type": "code",
   "execution_count": 3,
   "metadata": {},
   "outputs": [
    {
     "data": {
      "text/plain": [
       "()"
      ]
     },
     "execution_count": 3,
     "metadata": {},
     "output_type": "execute_result"
    }
   ],
   "source": [
    "{\n",
    "    use std::io::Write; \n",
    "    \n",
    "    let mut buf: Vec<u8> = vec![];\n",
    "//     let writer: Write = buf; // the size for values of type `dyn std::io::Write` cannot be known at compilation time\n",
    "    let writer: &mut Write = &mut buf;\n",
    "}"
   ]
  },
  {
   "cell_type": "markdown",
   "metadata": {},
   "source": [
    "# 泛型函数"
   ]
  },
  {
   "cell_type": "code",
   "execution_count": 4,
   "metadata": {},
   "outputs": [
    {
     "data": {
      "text/plain": [
       "()"
      ]
     },
     "execution_count": 4,
     "metadata": {},
     "output_type": "execute_result"
    }
   ],
   "source": [
    "{\n",
    "    use std::io::Write;\n",
    "\n",
    "    // 普通函数\n",
    "    fn say_hello1(out: &mut Write) -> std::io::Result<()> {\n",
    "        out.write_all(b\"hello\\n\")?;\n",
    "\n",
    "        out.flush()\n",
    "    }\n",
    "\n",
    "    // 泛型函数\n",
    "    fn say_hello2<W: Write>(out: &mut W) -> std::io::Result<()> {\n",
    "        out.write_all(b\"hello\\n\")?;\n",
    "\n",
    "        out.flush()\n",
    "    }\n",
    "}"
   ]
  },
  {
   "cell_type": "code",
   "execution_count": 7,
   "metadata": {},
   "outputs": [
    {
     "data": {
      "text/plain": [
       "()"
      ]
     },
     "execution_count": 7,
     "metadata": {},
     "output_type": "execute_result"
    }
   ],
   "source": [
    "{\n",
    "    use std::fmt::Debug;\n",
    "    use std::hash::Hash;\n",
    "    use std::cmp::Eq;\n",
    "\n",
    "    fn top_ten<T: Debug + Hash + Eq>(values: &Vec<T>) {\n",
    "\n",
    "    }\n",
    "}"
   ]
  },
  {
   "cell_type": "code",
   "execution_count": 15,
   "metadata": {},
   "outputs": [
    {
     "data": {
      "text/plain": [
       "()"
      ]
     },
     "execution_count": 15,
     "metadata": {},
     "output_type": "execute_result"
    }
   ],
   "source": [
    "{\n",
    "    trait Mapper {};\n",
    "    trait Reducer {};\n",
    "    struct DataSet;\n",
    "    trait Serialize {};\n",
    "    \n",
    "    fn run_query<M: Mapper + Serialize, R: Reducer + Serialize>(\n",
    "        data: &DataSet, map: M, recude: R) -> Result<(), ()> {\n",
    "            Ok(())\n",
    "    }\n",
    "    \n",
    "    fn run_query2<M, R>(data: &DataSet, map: M, recude: R) -> Result<(), ()> \n",
    "        where M: Mapper + Serialize,\n",
    "            R: Reducer + Serialize {\n",
    "                Err(())\n",
    "    }\n",
    "}"
   ]
  },
  {
   "cell_type": "markdown",
   "metadata": {},
   "source": [
    "# 定义和实现特质"
   ]
  },
  {
   "cell_type": "code",
   "execution_count": 33,
   "metadata": {},
   "outputs": [],
   "source": [
    "use std::ops::Range;\n",
    "\n",
    "\n",
    "#[derive(Copy, Clone)]\n",
    "enum BroomIntent { FetchWater, DumpWater }\n",
    "\n",
    "struct Broom {\n",
    "    name: String,\n",
    "    height: u32,\n",
    "    health: u32,\n",
    "    position: (f32, f32, f32),\n",
    "    intent: BroomIntent\n",
    "}\n",
    "\n",
    "impl Broom {\n",
    "    fn broomstick_range(&self) -> Range<u32> {\n",
    "        self.position.1 as u32 - self.height - 1 .. self.position.1 as u32\n",
    "    }\n",
    "}\n",
    "\n",
    "struct Canvas; // mock\n",
    "\n",
    "impl Canvas {\n",
    "    fn write_at(&self, x: u32, y: u32, c: char) {\n",
    "        println!(\"canvas write at [{}, {}]({})\", x, y, c);\n",
    "    }\n",
    "}\n",
    "\n",
    "trait Visible {\n",
    "    fn draw(&self, canvas: &mut Canvas);\n",
    "    \n",
    "    fn hit_test(&self, x: u32, y: u32) -> bool;\n",
    "}"
   ]
  },
  {
   "cell_type": "code",
   "execution_count": 34,
   "metadata": {},
   "outputs": [],
   "source": [
    "impl Visible for Broom {\n",
    "    fn draw(&self, canvas: &mut Canvas) {\n",
    "//         for y in self.y - self.height .. self.y {\n",
    "        for y in self.broomstick_range() {\n",
    "            canvas.write_at(self.position.0 as u32, y, '|');\n",
    "        }\n",
    "        canvas.write_at(self.position.0 as u32, self.position.1 as u32, 'M');\n",
    "    }\n",
    "    \n",
    "    fn hit_test(&self, x: u32, y: u32) -> bool {\n",
    "        self.position.0 as u32 == x\n",
    "        && self.position.1 as u32 - self.height - 1 <= y\n",
    "        && y <= self.position.1 as u32\n",
    "    }\n",
    "}"
   ]
  },
  {
   "cell_type": "code",
   "execution_count": null,
   "metadata": {},
   "outputs": [],
   "source": []
  }
 ],
 "metadata": {
  "kernelspec": {
   "display_name": "Rust",
   "language": "rust",
   "name": "rust"
  },
  "language_info": {
   "codemirror_mode": "rust",
   "file_extension": ".rs",
   "mimetype": "text/rust",
   "name": "Rust",
   "pygment_lexer": "rust",
   "version": ""
  },
  "toc": {
   "base_numbering": 1,
   "nav_menu": {},
   "number_sections": true,
   "sideBar": true,
   "skip_h1_title": false,
   "title_cell": "Table of Contents",
   "title_sidebar": "Contents",
   "toc_cell": false,
   "toc_position": {},
   "toc_section_display": true,
   "toc_window_display": true
  }
 },
 "nbformat": 4,
 "nbformat_minor": 4
}
