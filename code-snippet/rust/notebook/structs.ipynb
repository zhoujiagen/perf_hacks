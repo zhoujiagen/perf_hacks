{
 "cells": [
  {
   "cell_type": "markdown",
   "metadata": {},
   "source": [
    "三种结构类型:\n",
    "\n",
    "- 命名字段(named-field)结构体\n",
    "- 类元组(tuple-like)结构体\n",
    "- 类单元(unit-like)结构体"
   ]
  },
  {
   "cell_type": "markdown",
   "metadata": {},
   "source": [
    "# 命名字段结构体"
   ]
  },
  {
   "cell_type": "code",
   "execution_count": 2,
   "metadata": {},
   "outputs": [],
   "source": [
    "struct GrayscaleMap {\n",
    "    pixels: Vec<u8>,\n",
    "    size: (usize, usize)\n",
    "}"
   ]
  },
  {
   "cell_type": "code",
   "execution_count": 3,
   "metadata": {},
   "outputs": [],
   "source": [
    "impl GrayscaleMap {\n",
    "    fn new_map(size: (usize, usize), pixels: Vec<u8>) -> GrayscaleMap {\n",
    "        assert_eq!(pixels.len(), size.0 * size.1);\n",
    "        GrayscaleMap{pixels, size}\n",
    "    }\n",
    "}"
   ]
  },
  {
   "cell_type": "code",
   "execution_count": 6,
   "metadata": {},
   "outputs": [],
   "source": [
    "let width = 1024;\n",
    "let height = 576;\n",
    "let image = GrayscaleMap {\n",
    "    pixels: vec![0; width * height],\n",
    "    size: (width, height)\n",
    "};\n",
    "\n",
    "assert_eq!(image.size, (1024, 576));\n",
    "assert_eq!(image.pixels.len(), 1024 * 576);"
   ]
  },
  {
   "cell_type": "code",
   "execution_count": 15,
   "metadata": {},
   "outputs": [],
   "source": [
    "#[derive(Copy, Clone, Debug)]\n",
    "enum BroomIntent {FetchWater, DumpWater}\n",
    "\n",
    "#[derive(Debug)]\n",
    "struct Broom {\n",
    "    name: String,\n",
    "    height: u32,\n",
    "    health: u32,\n",
    "    position: (f32, f32, f32),\n",
    "    intent: BroomIntent\n",
    "}"
   ]
  },
  {
   "cell_type": "code",
   "execution_count": 17,
   "metadata": {},
   "outputs": [
    {
     "name": "stdout",
     "output_type": "stream",
     "text": [
      "Broom { name: \"Hoken\", height: 60, health: 100, position: (100.0, 200.0, 0.0), intent: FetchWater }\n"
     ]
    }
   ],
   "source": [
    "fn chop(b: Broom) -> (Broom, Broom) {\n",
    "    let mut broom1 = Broom {height: b.height / 2, ..b};\n",
    "    let mut broom2 = Broom {name: broom1.name.clone(), ..broom1};\n",
    "    \n",
    "    broom1.name.push_str(\" I\");\n",
    "    broom2.name.push_str(\" II\");    \n",
    "    \n",
    "    (broom1, broom2)\n",
    "}\n",
    "\n",
    "let hokey = Broom {\n",
    "    name: \"Hoken\".to_string(),\n",
    "    height: 60,\n",
    "    health: 100,\n",
    "    position: (100.0, 200.0, 0.0),\n",
    "    intent: BroomIntent::FetchWater\n",
    "};\n",
    "\n",
    "println!(\"{:?}\", hokey);\n"
   ]
  },
  {
   "cell_type": "markdown",
   "metadata": {},
   "source": [
    "# 类元组结构体"
   ]
  },
  {
   "cell_type": "code",
   "execution_count": 23,
   "metadata": {},
   "outputs": [],
   "source": [
    "#[derive(Debug)]\n",
    "struct Bounds(usize, usize);"
   ]
  },
  {
   "cell_type": "code",
   "execution_count": 25,
   "metadata": {},
   "outputs": [
    {
     "name": "stdout",
     "output_type": "stream",
     "text": [
      "Bounds(1024, 768)\n"
     ]
    }
   ],
   "source": [
    "let image_bounds = Bounds(1024, 768);\n",
    "println!(\"{:?}\", image_bounds);"
   ]
  },
  {
   "cell_type": "code",
   "execution_count": 26,
   "metadata": {},
   "outputs": [],
   "source": [
    "// newtype\n",
    "struct Ascii(Vec<u8>);"
   ]
  },
  {
   "cell_type": "markdown",
   "metadata": {},
   "source": [
    "# 类单元结构体"
   ]
  },
  {
   "cell_type": "code",
   "execution_count": 30,
   "metadata": {},
   "outputs": [
    {
     "name": "stdout",
     "output_type": "stream",
     "text": [
      "Onesuch\n"
     ]
    }
   ],
   "source": [
    "#[derive(Debug)]\n",
    "struct Onesuch;\n",
    "\n",
    "let o = Onesuch;\n",
    "\n",
    "println!(\"{:?}\", o);"
   ]
  },
  {
   "cell_type": "markdown",
   "metadata": {},
   "source": [
    "# 定义方法"
   ]
  },
  {
   "cell_type": "code",
   "execution_count": 39,
   "metadata": {},
   "outputs": [],
   "source": [
    "struct Queue {\n",
    "    older: Vec<char>,\n",
    "    younger: Vec<char>\n",
    "}\n",
    "\n",
    "impl Queue {\n",
    "    fn new() -> Queue {\n",
    "        Queue { older: Vec::new(), younger: Vec::new() }\n",
    "    }\n",
    "    \n",
    "    fn push(&mut self, c: char) {\n",
    "        self.younger.push(c);\n",
    "    }\n",
    "    \n",
    "    fn pop(&mut self) -> Option<char> {\n",
    "        if self.older.is_empty() {\n",
    "            if self.younger.is_empty() {\n",
    "                return None;\n",
    "            }\n",
    "\n",
    "            use std::mem::swap;\n",
    "            swap(&mut self.older, &mut self.younger);\n",
    "            self.older.reverse();\n",
    "        }\n",
    "\n",
    "        self.older.pop()\n",
    "    }\n",
    "    \n",
    "    fn is_empty(&self) -> bool {\n",
    "        self.older.is_empty() && self.younger.is_empty()\n",
    "    }\n",
    "    \n",
    "    fn split(self) -> (Vec<char>, Vec<char>) { // move\n",
    "        (self.older, self.younger)\n",
    "    }\n",
    "}"
   ]
  },
  {
   "cell_type": "code",
   "execution_count": 38,
   "metadata": {},
   "outputs": [
    {
     "name": "stdout",
     "output_type": "stream",
     "text": [
      "[]\n",
      "['P', 'D']\n"
     ]
    }
   ],
   "source": [
    "let mut q = Queue { older: Vec::new(), younger: Vec::new() };\n",
    "\n",
    "q.push('0');\n",
    "q.push('1');\n",
    "assert_eq!(q.pop(), Some('0'));\n",
    "assert_eq!(q.pop(), Some('1'));\n",
    "assert_eq!(q.pop(), None);\n",
    "\n",
    "assert!(q.is_empty());\n",
    "\n",
    "q.push('P');\n",
    "q.push('D');\n",
    "\n",
    "let (older, younger) = q.split();\n",
    "println!(\"{:?}\", older);\n",
    "println!(\"{:?}\", younger);"
   ]
  },
  {
   "cell_type": "markdown",
   "metadata": {},
   "source": [
    "# 泛型结构体"
   ]
  },
  {
   "cell_type": "code",
   "execution_count": 40,
   "metadata": {},
   "outputs": [],
   "source": [
    "struct Queue<T> {\n",
    "    older: Vec<T>,\n",
    "    younger: Vec<T>\n",
    "}"
   ]
  },
  {
   "cell_type": "code",
   "execution_count": 41,
   "metadata": {},
   "outputs": [],
   "source": [
    "impl<T> Queue<T> {\n",
    "    fn new() -> Queue<T> {\n",
    "        Queue { older: Vec::new(), younger: Vec::new() }\n",
    "    }\n",
    "    \n",
    "    fn push(&mut self, t: T) {\n",
    "        self.younger.push(t);\n",
    "    }\n",
    "    \n",
    "    fn is_emplty(&self) -> bool {\n",
    "        self.older.is_empty() && self.younger.is_empty()\n",
    "    }\n",
    "}"
   ]
  },
  {
   "cell_type": "code",
   "execution_count": 42,
   "metadata": {},
   "outputs": [],
   "source": [
    "let mut q = Queue::<char>::new();\n",
    "q.push('C');\n",
    "\n",
    "let mut r = Queue::new();\n",
    "r.push(0.74);"
   ]
  },
  {
   "cell_type": "markdown",
   "metadata": {},
   "source": [
    "# 带生命周期参数的结构体"
   ]
  },
  {
   "cell_type": "code",
   "execution_count": 47,
   "metadata": {},
   "outputs": [],
   "source": [
    "struct Extrema<'elt> {\n",
    "    greatest: &'elt i32, // 结构体中有引用字段时, 必须要有生命周期参数\n",
    "    least: &'elt i32\n",
    "}"
   ]
  },
  {
   "cell_type": "code",
   "execution_count": 50,
   "metadata": {},
   "outputs": [],
   "source": [
    "fn find_extrema<'s>(slice: &'s [i32]) -> Extrema<'s> {\n",
    "    let mut greatest = &slice[0];\n",
    "    let mut least = &slice[0];\n",
    "    \n",
    "    for i in 1..slice.len() {\n",
    "        if slice[i] < *least {\n",
    "            least = &slice[i];\n",
    "        }\n",
    "        if slice[i] > *greatest {\n",
    "            greatest = &slice[i];\n",
    "        }\n",
    "    }\n",
    "    \n",
    "    Extrema {greatest, least}\n",
    "}"
   ]
  },
  {
   "cell_type": "code",
   "execution_count": 54,
   "metadata": {},
   "outputs": [
    {
     "name": "stdout",
     "output_type": "stream",
     "text": [
      "done.\n"
     ]
    },
    {
     "data": {
      "text/plain": [
       "()"
      ]
     },
     "execution_count": 54,
     "metadata": {},
     "output_type": "execute_result"
    }
   ],
   "source": [
    "{\n",
    "    let a = [0, -3, 0, 15, 48];\n",
    "    let e = find_extrema(&a);\n",
    "    assert_eq!(-3, *e.least);\n",
    "    assert_eq!(48, *e.greatest);\n",
    "    \n",
    "    println!(\"done.\");\n",
    "}"
   ]
  },
  {
   "cell_type": "markdown",
   "metadata": {},
   "source": [
    "# 继承通用特质"
   ]
  },
  {
   "cell_type": "code",
   "execution_count": 56,
   "metadata": {},
   "outputs": [],
   "source": [
    "#[derive(Copy, Clone, Debug, PartialEq)]\n",
    "struct Point {\n",
    "    x: f64,\n",
    "    y: f64\n",
    "}"
   ]
  },
  {
   "cell_type": "markdown",
   "metadata": {},
   "source": [
    "# 内部可变性"
   ]
  },
  {
   "cell_type": "code",
   "execution_count": 66,
   "metadata": {},
   "outputs": [],
   "source": [
    "use std::cell::Cell;\n",
    "use std::fs::File;\n",
    "\n",
    "struct SpiderRobot {\n",
    "    species: String,\n",
    "    web_enabled: bool,\n",
    "    leg_devices: Vec<File>,\n",
    "    hardware_error_count: Cell<u32>              // Cell类型\n",
    "}\n",
    "\n",
    "impl SpiderRobot {\n",
    "    fn add_hardware_error(&self) {\n",
    "        let n = self.hardware_error_count.get(); // 读\n",
    "        self.hardware_error_count.set(n+1);      // 写\n",
    "    }\n",
    "    \n",
    "    fn has_hardware_errors(&self) -> bool {\n",
    "        self.hardware_error_count.get() > 0      // 读\n",
    "    }\n",
    "}"
   ]
  },
  {
   "cell_type": "code",
   "execution_count": 68,
   "metadata": {},
   "outputs": [
    {
     "name": "stdout",
     "output_type": "stream",
     "text": [
      "true\n"
     ]
    }
   ],
   "source": [
    "let robot = SpiderRobot {\n",
    "    species: \"demo\".to_string(),\n",
    "    web_enabled: false,\n",
    "    leg_devices: Vec::new(),\n",
    "    hardware_error_count: Cell::new(0)\n",
    "};\n",
    "\n",
    "robot.add_hardware_error();\n",
    "println!(\"{}\", robot.has_hardware_errors());"
   ]
  },
  {
   "cell_type": "code",
   "execution_count": 80,
   "metadata": {},
   "outputs": [
    {
     "data": {
      "text/plain": [
       "()"
      ]
     },
     "execution_count": 80,
     "metadata": {},
     "output_type": "execute_result"
    }
   ],
   "source": [
    "use std::cell::RefCell;\n",
    "\n",
    "let ref_cell: RefCell<String> = RefCell::new(\"hello\".to_string());\n",
    "\n",
    "{\n",
    "    let r = ref_cell.borrow();\n",
    "    let count = r.len();\n",
    "    assert_eq!(count, 5);\n",
    "    assert_eq!(\"hello\", *r);\n",
    "}\n",
    "\n",
    "{\n",
    "    let mut w = ref_cell.borrow_mut();\n",
    "    w.push_str(\"world\");\n",
    "    assert_eq!(\"helloworld\", *w);\n",
    "}"
   ]
  },
  {
   "cell_type": "code",
   "execution_count": null,
   "metadata": {},
   "outputs": [],
   "source": []
  }
 ],
 "metadata": {
  "kernelspec": {
   "display_name": "Rust",
   "language": "rust",
   "name": "rust"
  },
  "language_info": {
   "codemirror_mode": "rust",
   "file_extension": ".rs",
   "mimetype": "text/rust",
   "name": "Rust",
   "pygment_lexer": "rust",
   "version": ""
  },
  "toc": {
   "base_numbering": 1,
   "nav_menu": {},
   "number_sections": true,
   "sideBar": true,
   "skip_h1_title": false,
   "title_cell": "Table of Contents",
   "title_sidebar": "Contents",
   "toc_cell": false,
   "toc_position": {},
   "toc_section_display": true,
   "toc_window_display": true
  }
 },
 "nbformat": 4,
 "nbformat_minor": 4
}
